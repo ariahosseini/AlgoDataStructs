{
  "cells": [
    {
      "cell_type": "markdown",
      "metadata": {
        "id": "view-in-github",
        "colab_type": "text"
      },
      "source": [
        "<a href=\"https://colab.research.google.com/github/ariahosseini/AlgoDataStructs/blob/main/Algorithm_02_ProjTwo_Sorting.ipynb\" target=\"_parent\"><img src=\"https://colab.research.google.com/assets/colab-badge.svg\" alt=\"Open In Colab\"/></a>"
      ]
    },
    {
      "cell_type": "code",
      "execution_count": null,
      "id": "abb40c37",
      "metadata": {
        "id": "abb40c37"
      },
      "outputs": [],
      "source": [
        "from typing import List, Dict\n",
        "import time\n",
        "from random import choices"
      ]
    },
    {
      "cell_type": "code",
      "execution_count": null,
      "id": "be3cc145",
      "metadata": {
        "id": "be3cc145",
        "outputId": "51276c07-81b7-4bdb-b7e6-e14dbf42c654"
      },
      "outputs": [
        {
          "name": "stdout",
          "output_type": "stream",
          "text": [
            "Sorted array:  [-7, -2, -2, 0, 1, 1, 2, 3, 3, 10]\n",
            "Execution time: 1.0304009914398193 seconds\n"
          ]
        }
      ],
      "source": [
        "# Brute force algorithm\n",
        "def brute_force_sort(arr: List[int]) -> None:\n",
        "    n = len(arr)\n",
        "    for i in range(n):\n",
        "        for j in range(i,n):\n",
        "            if arr[i]>arr[j]:\n",
        "                arr[j], arr[i] = arr[i], arr[j]\n",
        "# test the algorithm\n",
        "arr = [-2,0,1,3,-7,3,2,-2,1,10]\n",
        "brute_force_sort(arr)\n",
        "print('Sorted array: ', arr)\n",
        "# test the execution time\n",
        "arr = choices(range(-1000, 1000), k=4000)\n",
        "start_time = time.time()\n",
        "brute_force_sort(arr)\n",
        "end_time = time.time()\n",
        "elapsed_time = end_time - start_time\n",
        "print('Execution time:', elapsed_time, 'seconds')"
      ]
    },
    {
      "cell_type": "code",
      "execution_count": null,
      "id": "30dc6751",
      "metadata": {
        "id": "30dc6751",
        "outputId": "31bc6d51-06b8-4efd-9fb7-4e9afe59bf2a"
      },
      "outputs": [
        {
          "name": "stdout",
          "output_type": "stream",
          "text": [
            "Sorted array:  [-7, -2, -2, 0, 1, 1, 2, 3, 3, 10]\n",
            "Execution time: 1.8209898471832275 seconds\n"
          ]
        }
      ],
      "source": [
        "# Bubble sort algorithm\n",
        "def bubble_sort(arr: List[int]) -> None:\n",
        "    n = len(arr)\n",
        "    for i in range(n-1):\n",
        "        for j in range(n-1-i):\n",
        "            if arr[j]>arr[j+1]:\n",
        "                arr[j], arr[j+1] = arr[j+1], arr[j]\n",
        "# test the algorithm\n",
        "arr = [-2,0,1,3,-7,3,2,-2,1,10]\n",
        "bubble_sort(arr)\n",
        "print('Sorted array: ', arr)\n",
        "# test the execution time\n",
        "arr = choices(range(-1000, 1000), k=4000)\n",
        "start_time = time.time()\n",
        "bubble_sort(arr)\n",
        "end_time = time.time()\n",
        "elapsed_time = end_time - start_time\n",
        "print('Execution time:', elapsed_time, 'seconds')"
      ]
    },
    {
      "cell_type": "code",
      "execution_count": null,
      "id": "3f7f96c9",
      "metadata": {
        "id": "3f7f96c9",
        "outputId": "e7e4d9f0-94a0-40d0-ed61-f6d60edcaeff"
      },
      "outputs": [
        {
          "name": "stdout",
          "output_type": "stream",
          "text": [
            "Sorted array:  [-7, -2, -2, 0, 1, 1, 2, 3, 3, 10]\n",
            "Execution time: 0.26808905601501465 seconds\n"
          ]
        }
      ],
      "source": [
        "# Selection sort algorithm\n",
        "def selection_sort(arr: List[int]) -> None:\n",
        "    n = len(arr)\n",
        "    for i in range(n-1):\n",
        "        min_val = min(arr[i:])\n",
        "        min_ind = arr.index(min_val,i)\n",
        "        if arr[i] != min_val:\n",
        "            arr[i], arr[min_ind] = arr[min_ind], arr[i]\n",
        "# test the algorithm\n",
        "arr = [-2,0,1,3,-7,3,2,-2,1,10]\n",
        "selection_sort(arr)\n",
        "print('Sorted array: ', arr)\n",
        "# test the execution time\n",
        "arr = choices(range(-1000, 1000), k=4000)\n",
        "start_time = time.time()\n",
        "selection_sort(arr)\n",
        "end_time = time.time()\n",
        "elapsed_time = end_time - start_time\n",
        "print('Execution time:', elapsed_time, 'seconds')"
      ]
    },
    {
      "cell_type": "code",
      "execution_count": null,
      "id": "a6d32b0b",
      "metadata": {
        "id": "a6d32b0b",
        "outputId": "261438b8-3f16-479c-f36d-437327f347ee"
      },
      "outputs": [
        {
          "name": "stdout",
          "output_type": "stream",
          "text": [
            "Sorted array:  [-7, -2, -2, 0, 1, 1, 2, 3, 3, 10]\n",
            "Execution time: 1.0255961418151855 seconds\n"
          ]
        }
      ],
      "source": [
        "# Insertion sort algorithm\n",
        "def insertion_sort(arr: List[int]) -> None:\n",
        "    n = len(arr)\n",
        "    for ind in range(1,n):\n",
        "        curr = arr[ind]\n",
        "        pos = ind\n",
        "        while pos>0 and curr<arr[pos-1]:\n",
        "            arr[pos] = arr[pos-1]\n",
        "            pos -= 1\n",
        "        arr[pos] = curr\n",
        "# test the algorithm\n",
        "arr = [-2,0,1,3,-7,3,2,-2,1,10]\n",
        "insertion_sort(arr)\n",
        "print('Sorted array: ', arr)\n",
        "# test the execution time\n",
        "arr = choices(range(-1000, 1000), k=4000)\n",
        "start_time = time.time()\n",
        "insertion_sort(arr)\n",
        "end_time = time.time()\n",
        "elapsed_time = end_time - start_time\n",
        "print('Execution time:', elapsed_time, 'seconds')"
      ]
    },
    {
      "cell_type": "code",
      "execution_count": null,
      "id": "05652ea9",
      "metadata": {
        "id": "05652ea9",
        "outputId": "b7a1d638-588a-4789-ea88-27325d1f215a"
      },
      "outputs": [
        {
          "name": "stdout",
          "output_type": "stream",
          "text": [
            "Sorted array:  [-7, -2, -2, 0, 1, 1, 2, 3, 3, 10]\n",
            "Execution time: 0.032984018325805664 seconds\n"
          ]
        }
      ],
      "source": [
        "# Shell sort algorithm\n",
        "def shell_sort(arr: List[int]) -> None:\n",
        "    n = len(arr)\n",
        "    gap = n // 2\n",
        "    while gap > 0:\n",
        "        for ind in range(gap,n):\n",
        "            curr = arr[ind]\n",
        "            pos = ind\n",
        "            while pos>=gap and curr<arr[pos-gap]:\n",
        "                arr[pos] = arr[pos-gap]\n",
        "                pos -= gap\n",
        "            arr[pos] = curr\n",
        "        gap //= 2\n",
        "# test the algorithm\n",
        "arr = [-2,0,1,3,-7,3,2,-2,1,10]\n",
        "shell_sort(arr)\n",
        "print('Sorted array: ', arr)\n",
        "# test the execution time\n",
        "arr = choices(range(-1000, 1000), k=4000)\n",
        "start_time = time.time()\n",
        "shell_sort(arr)\n",
        "end_time = time.time()\n",
        "elapsed_time = end_time - start_time\n",
        "print('Execution time:', elapsed_time, 'seconds')"
      ]
    },
    {
      "cell_type": "code",
      "execution_count": null,
      "id": "bb721562",
      "metadata": {
        "id": "bb721562",
        "outputId": "dde5fa64-7ad9-4d05-b5aa-9f19b6264bac"
      },
      "outputs": [
        {
          "name": "stdout",
          "output_type": "stream",
          "text": [
            "Sorted array:  [-7, -2, -2, 0, 1, 1, 2, 3, 3, 10]\n",
            "Execution time: 0.0001418590545654297 seconds\n"
          ]
        }
      ],
      "source": [
        "# Quick sort algorithm\n",
        "def locate_pivot(arr: List[int], first: int, last: int) -> int:\n",
        "    pivot = arr[last]\n",
        "    left = first\n",
        "    right = last-1\n",
        "    while True:\n",
        "        while left <= right and arr[left] <= pivot:\n",
        "            left += 1\n",
        "        while left <= right and arr[right] >= pivot:\n",
        "            right -= 1\n",
        "        if left > right:\n",
        "            break\n",
        "        arr[left], arr[right] = arr[right], arr[left]\n",
        "    arr[last], arr[left] = arr[left], arr[last]\n",
        "    return left\n",
        "\n",
        "def quick_sort(arr: List[int], first: int, last: int) -> None:\n",
        "    if first < last:\n",
        "        pivot = locate_pivot(arr, first, last)\n",
        "        quick_sort(arr, first, pivot-1)\n",
        "        quick_sort(arr, pivot+1, last)\n",
        "# test the algorithm\n",
        "arr = [-2,0,1,3,-7,3,2,-2,1,10]\n",
        "n = len(arr)\n",
        "quick_sort(arr, 0, n-1)\n",
        "print('Sorted array: ', arr)\n",
        "# test the execution time\n",
        "arr = choices(range(-1000, 1000), k=4000)\n",
        "start_time = time.time()\n",
        "quick_sort(arr, 0, n-1)\n",
        "end_time = time.time()\n",
        "elapsed_time = end_time - start_time\n",
        "print('Execution time:', elapsed_time, 'seconds')"
      ]
    },
    {
      "cell_type": "code",
      "execution_count": null,
      "id": "f09fe34d",
      "metadata": {
        "id": "f09fe34d",
        "outputId": "89ef8d2e-1b00-4b77-94ce-bc2f8ba0409d"
      },
      "outputs": [
        {
          "name": "stdout",
          "output_type": "stream",
          "text": [
            "Sorted array:  [-7, -2, -2, 0, 1, 1, 2, 3, 3, 10]\n",
            "Execution time: 0.02225780487060547 seconds\n"
          ]
        }
      ],
      "source": [
        "# Merge sort algorithm\n",
        "def merge_sort(arr: List[int]) -> None:\n",
        "    if len(arr) > 1:\n",
        "        n = len(arr)\n",
        "        mid = n//2\n",
        "        left_arr = arr[:mid]\n",
        "        right_arr = arr[mid:]\n",
        "        merge_sort(left_arr)\n",
        "        merge_sort(right_arr)\n",
        "        i, j, k = 0, 0, 0\n",
        "        while i < len(left_arr) and j < len(right_arr):\n",
        "            if left_arr[i] < right_arr[j]:\n",
        "                arr[k] = left_arr[i]\n",
        "                i += 1\n",
        "                k += 1\n",
        "            else:\n",
        "                arr[k] = right_arr[j]\n",
        "                j += 1\n",
        "                k += 1\n",
        "        while i < len(left_arr):\n",
        "            arr[k] = left_arr[i]\n",
        "            i += 1\n",
        "            k += 1\n",
        "        while j < len(right_arr):\n",
        "            arr[k] = right_arr[j]\n",
        "            j += 1\n",
        "            k += 1\n",
        " # test the algorithm\n",
        "arr = [-2,0,1,3,-7,3,2,-2,1,10]\n",
        "merge_sort(arr)\n",
        "print('Sorted array: ', arr)\n",
        "# test the execution time\n",
        "arr = choices(range(-1000, 1000), k=4000)\n",
        "start_time = time.time()\n",
        "merge_sort(arr)\n",
        "end_time = time.time()\n",
        "elapsed_time = end_time - start_time\n",
        "print('Execution time:', elapsed_time, 'seconds')"
      ]
    },
    {
      "cell_type": "code",
      "execution_count": null,
      "id": "103b4da4",
      "metadata": {
        "id": "103b4da4",
        "outputId": "911429f5-f5e6-4245-e647-491ac69778b2"
      },
      "outputs": [
        {
          "data": {
            "text/plain": [
              "3"
            ]
          },
          "execution_count": 55,
          "metadata": {},
          "output_type": "execute_result"
        }
      ],
      "source": [
        "# Binary search algorithm\n",
        "def binary_search(arr: List[int], key: int) -> bool:\n",
        "    left, right = 0, len(arr)-1\n",
        "    while left<=right:\n",
        "        mid = (left+right)//2\n",
        "        if key == arr[mid]:\n",
        "            return mid\n",
        "        elif key > mid:\n",
        "            left = mid + 1\n",
        "        else:\n",
        "            right = mid - 1\n",
        "    print(\"Key os not found!\")\n",
        "    return None\n",
        "lst = [23, 2, 4, 2, 14]\n",
        "lst.sort()\n",
        "binary_search(lst, key=14)"
      ]
    }
  ],
  "metadata": {
    "kernelspec": {
      "display_name": "Python 3 (ipykernel)",
      "language": "python",
      "name": "python3"
    },
    "language_info": {
      "codemirror_mode": {
        "name": "ipython",
        "version": 3
      },
      "file_extension": ".py",
      "mimetype": "text/x-python",
      "name": "python",
      "nbconvert_exporter": "python",
      "pygments_lexer": "ipython3",
      "version": "3.8.5"
    },
    "colab": {
      "provenance": [],
      "include_colab_link": true
    }
  },
  "nbformat": 4,
  "nbformat_minor": 5
}