{
  "cells": [
    {
      "cell_type": "markdown",
      "metadata": {
        "id": "view-in-github",
        "colab_type": "text"
      },
      "source": [
        "<a href=\"https://colab.research.google.com/github/ariahosseini/AlgoDataStructs/blob/main/Algorithm_00_ProjZero_Dynamic.ipynb\" target=\"_parent\"><img src=\"https://colab.research.google.com/assets/colab-badge.svg\" alt=\"Open In Colab\"/></a>"
      ]
    },
    {
      "cell_type": "raw",
      "id": "a2ef1f97",
      "metadata": {
        "id": "a2ef1f97"
      },
      "source": [
        "https://medium.com/techie-delight/top-50-dynamic-programming-practice-problems-4208fed71aa3\n",
        "\n",
        "https://www.geeksforgeeks.org/dynamic-programming/\n",
        "\n",
        "https://iq.opengenus.org/list-of-dynamic-programming-problems/"
      ]
    },
    {
      "cell_type": "code",
      "execution_count": null,
      "id": "89ae8891",
      "metadata": {
        "id": "89ae8891"
      },
      "outputs": [],
      "source": [
        "from typing import List"
      ]
    },
    {
      "cell_type": "code",
      "execution_count": null,
      "id": "6f51d597",
      "metadata": {
        "id": "6f51d597"
      },
      "outputs": [],
      "source": [
        "# 1\n",
        "def fibonacci(num: int) -> int:\n",
        "    if num < 0:\n",
        "        return False\n",
        "    if num == 0:\n",
        "        return 0\n",
        "    dp = [0]*(num+1)\n",
        "    dp[1] = 1\n",
        "    for i in range(2,num+1):\n",
        "        dp[i] = dp[i-1] + dp[i-2]\n",
        "    return dp[-1]\n",
        "assert fibonacci(num=0) == 0\n",
        "assert fibonacci(num=1) == 1\n",
        "assert fibonacci(num=4) == 3"
      ]
    },
    {
      "cell_type": "code",
      "execution_count": null,
      "id": "21ec2816",
      "metadata": {
        "id": "21ec2816"
      },
      "outputs": [],
      "source": [
        "# 2\n",
        "def catalan(num: int) -> int:\n",
        "    if num < 0:\n",
        "        return False\n",
        "    if num == 0:\n",
        "        return 1\n",
        "    dp = [0] * (num+1)\n",
        "    dp[0] = 1\n",
        "    for n in range(num):\n",
        "        for i in range(n+1):\n",
        "            dp[n+1] += dp[i] * dp[n-i]\n",
        "    return dp[-1]\n",
        "assert catalan(num=0) == 1\n",
        "assert catalan(num=1) == 1\n",
        "assert catalan(num=4) == 14"
      ]
    },
    {
      "cell_type": "code",
      "execution_count": null,
      "id": "18a0f4fd",
      "metadata": {
        "id": "18a0f4fd"
      },
      "outputs": [],
      "source": [
        "# 3\n",
        "def bell(num: int) -> int:\n",
        "    if num < 0:\n",
        "        return False\n",
        "    if num == 0:\n",
        "        return 0\n",
        "    dp = [[0]*(num+1) for _ in range(num+1)]\n",
        "    dp[1][1] = 1\n",
        "    for n in range(1, num):\n",
        "        for k in range(1, num+1):\n",
        "            dp[n+1][k] = k * dp[n][k] + dp[n][k-1]\n",
        "    return sum(dp[-1])\n",
        "assert bell(num=0) == 0\n",
        "assert bell(num=2) == 2\n",
        "assert bell(num=3) == 5"
      ]
    },
    {
      "cell_type": "code",
      "execution_count": null,
      "id": "6170e216",
      "metadata": {
        "id": "6170e216"
      },
      "outputs": [],
      "source": [
        "# 4\n",
        "def binomial(num: int, k: int) -> int:\n",
        "    if num < 0:\n",
        "        return False\n",
        "    bi_coeff = [[0]*(k+1) for _ in range(num+1)]\n",
        "    for _ in range(num+1):\n",
        "        bi_coeff[_][0] = 1\n",
        "    for _ in range(k+1):\n",
        "        bi_coeff[_][_] = 1\n",
        "    for n in range(1, num):\n",
        "        for i in range(1, min(n,k)+1):\n",
        "            bi_coeff[n+1][i] = bi_coeff[n][i-1] + bi_coeff[n][i]\n",
        "    return bi_coeff[-1][-1]\n",
        "assert binomial(num=5, k=2) == 10"
      ]
    },
    {
      "cell_type": "code",
      "execution_count": null,
      "id": "c0a3376a",
      "metadata": {
        "id": "c0a3376a"
      },
      "outputs": [],
      "source": [
        "# 5\n",
        "def coin(coins: List[int], target: int) -> int:\n",
        "    if target < min(coins):\n",
        "        return False\n",
        "    if target == 0:\n",
        "        return 1\n",
        "    dp = [0]*(target+1)\n",
        "    dp[0] = 1\n",
        "    for coin in coins:\n",
        "        for n in range(coin, target+1):\n",
        "            dp[n] += dp[n-coin]\n",
        "    return dp[-1]\n",
        "coins = [1, 2, 3]\n",
        "target = 4\n",
        "assert coin(coins, target) == 4"
      ]
    },
    {
      "cell_type": "code",
      "execution_count": null,
      "id": "c01746fc",
      "metadata": {
        "id": "c01746fc"
      },
      "outputs": [],
      "source": [
        "# 6\n",
        "def subset(nums: List[int], target: int) -> bool:\n",
        "    if target < min(nums):\n",
        "        return False\n",
        "    if target == 0:\n",
        "        return True\n",
        "    n = len(nums)\n",
        "    dp = [[False]*(target+1) for _ in range(n+1)]\n",
        "    for i in range(n+1):\n",
        "        dp[i][0] = True\n",
        "    for i in range(1,n+1):\n",
        "        for j in range(target+1):\n",
        "            if j < nums[i-1]:\n",
        "                dp[i][j] = dp[i-1][j]\n",
        "            else:\n",
        "                dp[i][j] = dp[i-1][j] or dp[i-1][j-nums[i-1]]\n",
        "    return dp[-1][-1]\n",
        "nums = [3, 34, 4, 12, 5, 2]\n",
        "target = 9\n",
        "assert subset(nums, target) == True"
      ]
    },
    {
      "cell_type": "code",
      "execution_count": null,
      "id": "6246d35d",
      "metadata": {
        "id": "6246d35d",
        "outputId": "8e89569f-da08-4d22-b67c-03800bf3804a"
      },
      "outputs": [
        {
          "data": {
            "text/plain": [
              "6"
            ]
          },
          "execution_count": 240,
          "metadata": {},
          "output_type": "execute_result"
        }
      ],
      "source": [
        "# 7\n",
        "def combination_mod(n: int, r: int, p: int) -> int:\n",
        "    if r > (n-r):\n",
        "        r = n - r\n",
        "    dp = [[0] * (r + 1) for _ in range(n+1)]\n",
        "    for i in range(n+1):\n",
        "        dp[i][0] = 1\n",
        "    for i in range(r+1):\n",
        "        dp[i][i] = 1\n",
        "    for i in range(1, n):\n",
        "        for j in range(min(i,r)):\n",
        "            dp[i+1][j+1] = (dp[i][j] % p + dp[i][j+1] % p) % p\n",
        "    return dp[-1][-1]\n",
        "n = 10\n",
        "r = 2\n",
        "p = 13\n",
        "combination_mod(n,r,p)"
      ]
    },
    {
      "cell_type": "code",
      "execution_count": null,
      "id": "21d302af",
      "metadata": {
        "id": "21d302af",
        "outputId": "a68248b4-b33c-4cda-d5b7-ddad58a3e928"
      },
      "outputs": [
        {
          "data": {
            "text/plain": [
              "22"
            ]
          },
          "execution_count": 241,
          "metadata": {},
          "output_type": "execute_result"
        }
      ],
      "source": [
        "# 8\n",
        "def rod_cut(prices: List[int]) -> int:\n",
        "    length = len(prices)\n",
        "    dp = [0]*(length+1)\n",
        "    dp[1] = prices[0]\n",
        "    for i in range(2,length+1):\n",
        "        max_val = float(\"-inf\")\n",
        "        for j in range(1,i+1):\n",
        "            max_val = max(max_val, prices[j-1]+dp[i-j])\n",
        "        dp[i] = max_val\n",
        "    return dp[-1]\n",
        "prices = [1, 5, 8, 9, 10, 17, 17, 20]\n",
        "rod_cut(prices)"
      ]
    },
    {
      "cell_type": "code",
      "execution_count": null,
      "id": "f03f5edd",
      "metadata": {
        "id": "f03f5edd"
      },
      "outputs": [],
      "source": [
        "# 9\n",
        "def paint_fence(n: int, k: int) -> int:\n",
        "    total = k\n",
        "    mod = 1000000007\n",
        "    same, diff = 0, k\n",
        "    for i in range(2, n + 1) :\n",
        "        same = diff % mod\n",
        "        diff = total * (k - 1)\n",
        "        diff = diff % mod\n",
        "        total = (same + diff) % mod\n",
        "    return total\n",
        "paint_fence(15, 6)"
      ]
    },
    {
      "cell_type": "code",
      "execution_count": null,
      "id": "3fd12e1b",
      "metadata": {
        "id": "3fd12e1b"
      },
      "outputs": [],
      "source": [
        "# 10\n",
        "def longest_common_subsequence(string1: str, string2: str) -> int:\n",
        "    dp = [[0 for _ in range(len(string2)+1)] for __ in range(len(string1)+1)]\n",
        "    for i in range(len(string1)-1,-1,-1):\n",
        "        for j in range(len(string2)-1,-1,-1):\n",
        "            if string1[i] == string2[j]:\n",
        "                dp[i][j] = 1 + dp[i+1][j+1]\n",
        "            else:\n",
        "                dp[i][j] = max(dp[i+1][j], dp[i][j+1])\n",
        "    return dp[0][0]\n",
        "s1 = \"AGGTAB\"\n",
        "s2 = \"GXTXAYB\"\n",
        "longest_common_subsequence(s1, s2)"
      ]
    },
    {
      "cell_type": "code",
      "execution_count": null,
      "id": "d0c54fcd",
      "metadata": {
        "id": "d0c54fcd"
      },
      "outputs": [],
      "source": [
        "# 11\n",
        "def longest_increasing_subsequence(nums: List[int]) -> int:\n",
        "    dp = {}\n",
        "    length, count = 0, 0\n",
        "    for i in range(len(nums)-1,-1,-1):\n",
        "        max_len, max_count = 1, 1\n",
        "        for j in range(i+1, len(nums)):\n",
        "            if nums[j] > nums[i]:\n",
        "                prev_len, prev_count = dp[j]\n",
        "                if prev_len + 1 > max_len:\n",
        "                    max_len, max_count = prev_len + 1, prev_count\n",
        "                elif prev_len + 1 == max_len:\n",
        "                    max_count += prev_count\n",
        "        if max_len > length:\n",
        "            length, count = max_len, max_count\n",
        "        elif max_len == length:\n",
        "            count += max_count\n",
        "        dp[i] = [max_len, max_count]\n",
        "    return length\n",
        "nums = [3, 10, 2, 1, 20]\n",
        "longest_increasing_subsequence(nums)"
      ]
    },
    {
      "cell_type": "code",
      "execution_count": null,
      "id": "db2162d2",
      "metadata": {
        "id": "db2162d2"
      },
      "outputs": [],
      "source": [
        "# 12\n",
        "def longest_subseq_adjacents_diff_one(nums: List[int]) -> int:\n",
        "    n = len(nums)\n",
        "    dp = [1]*n\n",
        "    for i in range(n):\n",
        "        for j in range(i):\n",
        "            if abs(nums[i]-nums[j]) == 1:\n",
        "                dp[i] = max(dp[i], dp[j]+1)\n",
        "    return max(dp)\n",
        "arr = [1, 2, 3, 4, 5, 3, 2]\n",
        "longest_subseq_adjacents_diff_one(arr)"
      ]
    },
    {
      "cell_type": "code",
      "execution_count": null,
      "id": "9389bfb0",
      "metadata": {
        "id": "9389bfb0"
      },
      "outputs": [],
      "source": [
        "# 13\n",
        "def sub_matrix(matrix: List[List[int]]) -> int:\n",
        "    row = len(matrix)\n",
        "    col = len(matrix[0])\n",
        "    dp = [[0]*col for _ in range(row)]\n",
        "    for j in range(col):\n",
        "        dp[0][j] = matrix[0][j]\n",
        "    for i in range(row):\n",
        "        dp[i][0] =  matrix[i][0]\n",
        "    for i in range(1, row):\n",
        "        for j in range(1, col):\n",
        "            if matrix[i][j] == 0:\n",
        "                continue\n",
        "            else:\n",
        "                matrix[i][j] = min(matrix[i-1][j], matrix[i][j-1], matrix[i-1][j-1]) + 1\n",
        "    return max(map(max, matrix))\n",
        "M = [[0, 1, 1, 0, 1],\n",
        "     [1, 1, 0, 1, 0],\n",
        "     [0, 1, 1, 1, 0],\n",
        "     [1, 1, 1, 1, 0],\n",
        "     [1, 1, 1, 1, 1],\n",
        "     [0, 0, 0, 0, 0]]\n",
        "sub_matrix(M)"
      ]
    },
    {
      "cell_type": "code",
      "execution_count": null,
      "id": "2d1be126",
      "metadata": {
        "id": "2d1be126"
      },
      "outputs": [],
      "source": [
        "# 14\n",
        "def min_cost(cost: int, row: int, col: int) -> int:\n",
        "    for i in range(1, row+1):\n",
        "        cost[i][0] += cost[i - 1][0]\n",
        "    for j in range(1, col+1):\n",
        "        cost[0][j] += cost[0][j - 1]\n",
        "    for i in range(1, row+1):\n",
        "        for j in range(1, col+1):\n",
        "            cost[i][j] += min(cost[i - 1][j - 1], cost[i - 1][j], cost[i][j - 1])\n",
        "    return cost[-1][-1]\n",
        "cost = [[1, 2, 3],\n",
        "        [4, 8, 2],\n",
        "        [1, 5, 3]]\n",
        "print(min_cost(cost, 2, 2))"
      ]
    },
    {
      "cell_type": "code",
      "execution_count": null,
      "id": "162855c7",
      "metadata": {
        "id": "162855c7",
        "outputId": "ad8d8c79-7783-4fec-a4aa-f672918aad88"
      },
      "outputs": [
        {
          "data": {
            "text/plain": [
              "3"
            ]
          },
          "execution_count": 242,
          "metadata": {},
          "output_type": "execute_result"
        }
      ],
      "source": [
        "# 15\n",
        "def jumps(arr: List[int]):\n",
        "    n = len(arr)\n",
        "    if (n == 0) or (arr[0] == 0):\n",
        "        return -1\n",
        "    dp = [0 for i in range(n)]\n",
        "    for i in range(1, n):\n",
        "        dp[i] = float('inf')\n",
        "        for j in range(i):\n",
        "            if i <= j + arr[j]:\n",
        "                dp[i] = min(dp[i], dp[j]+1)\n",
        "                break\n",
        "    return dp[n-1]\n",
        "arr = [1, 3, 5, 8, 9, 2, 6, 7, 6, 8, 9]\n",
        "jumps(arr)"
      ]
    },
    {
      "cell_type": "code",
      "execution_count": null,
      "id": "ec201f3c",
      "metadata": {
        "id": "ec201f3c",
        "outputId": "4863875c-4934-4307-f94c-0922b7fa2977"
      },
      "outputs": [
        {
          "data": {
            "text/plain": [
              "7"
            ]
          },
          "execution_count": 243,
          "metadata": {},
          "output_type": "execute_result"
        }
      ],
      "source": [
        "# 16\n",
        "def reach_nth_stair(n: int) -> int:\n",
        "    dp = [1]*(n+1)\n",
        "    dp[2] = dp[0]+dp[1]\n",
        "    for i in range(3, n+1):\n",
        "        dp[i] = dp[i-3]+dp[i-2]+dp[i-1]\n",
        "    return dp[-1]\n",
        "reach_nth_stair(n=4)"
      ]
    },
    {
      "cell_type": "code",
      "execution_count": null,
      "id": "07beef49",
      "metadata": {
        "id": "07beef49",
        "outputId": "8019fbd4-24c2-4699-efdb-71db7a1ad973"
      },
      "outputs": [
        {
          "data": {
            "text/plain": [
              "6"
            ]
          },
          "execution_count": 244,
          "metadata": {},
          "output_type": "execute_result"
        }
      ],
      "source": [
        "# 17\n",
        "def count_paths_in_matrix(row: int, col: int) -> int:\n",
        "    if (col == 1 or row == 1):\n",
        "        return 1\n",
        "    dp = [[1]*col for _ in range(row)]\n",
        "    for i in range(1, row):\n",
        "        for j in range(1, col):\n",
        "            dp[i][j] = dp[i-1][j]+dp[i][j-1]\n",
        "    return dp[-1][-1]\n",
        "count_paths_in_matrix(row=3, col=3)"
      ]
    },
    {
      "cell_type": "code",
      "execution_count": null,
      "id": "c709276d",
      "metadata": {
        "id": "c709276d",
        "outputId": "08ec6e94-ee7c-44b8-f96b-9a8c672c3c8c"
      },
      "outputs": [
        {
          "data": {
            "text/plain": [
              "2"
            ]
          },
          "execution_count": 245,
          "metadata": {},
          "output_type": "execute_result"
        }
      ],
      "source": [
        "# 18\n",
        "def count_paths_in_matrix_with_obstacles(mat: List[List[int]]) -> int:\n",
        "    row = len(mat)\n",
        "    col = len(mat[0])\n",
        "    dp = [[0]*col for i in range(row)]\n",
        "    if mat[0][0] == 0:\n",
        "        dp[0][0] = 1\n",
        "    for i in range(1, row):\n",
        "        if mat[i][0] == 0:\n",
        "            dp[i][0] = dp[i-1][0]\n",
        "    for j in range(1, col):\n",
        "        if mat[0][j] == 0:\n",
        "            dp[0][j] = dp[0][j-1]\n",
        "    for i in range(1, row):\n",
        "        for j in range(1, len(mat[0])):\n",
        "            if mat[i][j] == 0:\n",
        "                dp[i][j] = dp[i-1][j] + dp[i][j-1]\n",
        "    return dp[-1][-1]\n",
        "mat = [[0, 0, 0],\n",
        "       [0, 1, 0],\n",
        "       [0, 0, 0]]\n",
        "count_paths_in_matrix_with_obstacles(mat)"
      ]
    },
    {
      "cell_type": "code",
      "execution_count": null,
      "id": "7e9c3842",
      "metadata": {
        "id": "7e9c3842",
        "outputId": "403c7506-dffb-43bd-9802-ad98473d9d57"
      },
      "outputs": [
        {
          "data": {
            "text/plain": [
              "220"
            ]
          },
          "execution_count": 255,
          "metadata": {},
          "output_type": "execute_result"
        }
      ],
      "source": [
        "# 19\n",
        "def knapsack(profit: List[int], weights: List[int], target: int) -> int:\n",
        "    if target < min(weights):\n",
        "        return -1\n",
        "    dp = [[0]*(target+1) for _ in range(len(weights)+1)]\n",
        "    for i in range(1,len(weights)+1):\n",
        "        for j in range(1,target+1):\n",
        "            if j < weights[i-1]:\n",
        "                dp[i][j] = dp[i-1][j]\n",
        "            else:\n",
        "                dp[i][j] = max(dp[i-1][j], profit[i-1]+dp[i-1][j-weights[i-1]])\n",
        "    return dp[-1][-1]\n",
        "target = 50\n",
        "profit = [60, 100, 120]\n",
        "weights = [10, 20, 30]\n",
        "knapsack(profit, weights, target)"
      ]
    },
    {
      "cell_type": "code",
      "execution_count": null,
      "id": "e9384f0a",
      "metadata": {
        "id": "e9384f0a",
        "outputId": "9070bdd2-a16e-47e9-c779-8935d89b74f7"
      },
      "outputs": [
        {
          "ename": "IndexError",
          "evalue": "list index out of range",
          "output_type": "error",
          "traceback": [
            "\u001b[0;31m---------------------------------------------------------------------------\u001b[0m",
            "\u001b[0;31mIndexError\u001b[0m                                Traceback (most recent call last)",
            "Cell \u001b[0;32mIn[264], line 13\u001b[0m\n\u001b[1;32m     11\u001b[0m weights \u001b[38;5;241m=\u001b[39m [\u001b[38;5;241m1\u001b[39m, \u001b[38;5;241m3\u001b[39m, \u001b[38;5;241m5\u001b[39m]\n\u001b[1;32m     12\u001b[0m profit \u001b[38;5;241m=\u001b[39m [\u001b[38;5;241m10\u001b[39m, \u001b[38;5;241m20\u001b[39m, \u001b[38;5;241m30\u001b[39m]\n\u001b[0;32m---> 13\u001b[0m \u001b[43munbound_knapsack\u001b[49m\u001b[43m(\u001b[49m\u001b[43mprofit\u001b[49m\u001b[43m,\u001b[49m\u001b[43m \u001b[49m\u001b[43mweights\u001b[49m\u001b[43m,\u001b[49m\u001b[43m \u001b[49m\u001b[43mtarget\u001b[49m\u001b[43m)\u001b[49m\n",
            "Cell \u001b[0;32mIn[264], line 8\u001b[0m, in \u001b[0;36munbound_knapsack\u001b[0;34m(profit, weights, target)\u001b[0m\n\u001b[1;32m      6\u001b[0m \u001b[38;5;28;01mfor\u001b[39;00m weight \u001b[38;5;129;01min\u001b[39;00m weights:\n\u001b[1;32m      7\u001b[0m     \u001b[38;5;28;01mfor\u001b[39;00m i \u001b[38;5;129;01min\u001b[39;00m \u001b[38;5;28mrange\u001b[39m(weight,target\u001b[38;5;241m+\u001b[39m\u001b[38;5;241m1\u001b[39m):\n\u001b[0;32m----> 8\u001b[0m         dp[i] \u001b[38;5;241m=\u001b[39m \u001b[38;5;28mmax\u001b[39m(\u001b[43mdp\u001b[49m\u001b[43m[\u001b[49m\u001b[43mi\u001b[49m\u001b[43m]\u001b[49m, profit[i\u001b[38;5;241m-\u001b[39m\u001b[38;5;241m1\u001b[39m]\u001b[38;5;241m+\u001b[39mdp[i\u001b[38;5;241m-\u001b[39m\u001b[38;5;241m1\u001b[39m][j\u001b[38;5;241m-\u001b[39mweights[i\u001b[38;5;241m-\u001b[39m\u001b[38;5;241m1\u001b[39m]])\n\u001b[1;32m      9\u001b[0m \u001b[38;5;28;01mreturn\u001b[39;00m dp[\u001b[38;5;241m-\u001b[39m\u001b[38;5;241m1\u001b[39m]\n",
            "\u001b[0;31mIndexError\u001b[0m: list index out of range"
          ]
        }
      ],
      "source": [
        "# 20\n",
        "def unbound_knapsack(profit: List[int], weights: List[int], target: int) -> int:\n",
        "    if target < min(weights):\n",
        "        return -1\n",
        "    dp = [[0]*(target+1)]\n",
        "    for weight in weights:\n",
        "        for i in range(weight,target+1):\n",
        "            dp[i] = max(dp[i], profit[i-1]+dp[i-1][j-weights[i-1]])\n",
        "    return dp[-1]\n",
        "target = 3\n",
        "weights = [1, 3, 5]\n",
        "profit = [10, 20, 30]\n",
        "unbound_knapsack(profit, weights, target)"
      ]
    }
  ],
  "metadata": {
    "kernelspec": {
      "display_name": "Python 3 (ipykernel)",
      "language": "python",
      "name": "python3"
    },
    "language_info": {
      "codemirror_mode": {
        "name": "ipython",
        "version": 3
      },
      "file_extension": ".py",
      "mimetype": "text/x-python",
      "name": "python",
      "nbconvert_exporter": "python",
      "pygments_lexer": "ipython3",
      "version": "3.8.5"
    },
    "colab": {
      "provenance": [],
      "include_colab_link": true
    }
  },
  "nbformat": 4,
  "nbformat_minor": 5
}